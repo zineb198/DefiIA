{
 "cells": [
  {
   "cell_type": "code",
   "execution_count": 32,
   "metadata": {},
   "outputs": [],
   "source": [
    "import pandas as pd\n",
    "import pickle\n",
    "import numpy as np \n",
    "import unicodedata\n",
    "import re\n",
    "import nltk\n",
    "import time\n",
    "import re\n",
    "import unicodedata\n",
    "import nltk\n",
    "from tqdm import tqdm\n",
    "import gensim"
   ]
  },
  {
   "cell_type": "code",
   "execution_count": 33,
   "metadata": {},
   "outputs": [],
   "source": [
    "DATA_PATH = \"/home/bennis/Bureau/5GMM/AI-Frameworks/DefiIA/defi-ia-insa-toulouse\"\n",
    "\n",
    "train_dfn = pd.read_json(DATA_PATH+\"/train.json\")\n",
    "train_dfn.set_index('Id', inplace=True) \n"
   ]
  },
  {
   "cell_type": "code",
   "execution_count": 45,
   "metadata": {},
   "outputs": [],
   "source": [
    "DATA_PATH = \"/home/bennis/Bureau/5GMM/AI-Frameworks/DefiIA/data\" \n",
    "\n",
    "train_df = pd.read_csv(DATA_PATH+'/cleaned/cleaned_train.csv')\n",
    "test_df = pd.read_csv(DATA_PATH+'/cleaned/cleaned_test.csv')\n",
    "train_label = pd.read_csv(DATA_PATH+'/cleaned/train_label.csv')"
   ]
  },
  {
   "cell_type": "code",
   "execution_count": 59,
   "metadata": {},
   "outputs": [],
   "source": [
    "class Word2Vec:\n",
    "\n",
    "    def __init__(self, args):\n",
    "        self.args = args\n",
    "\n",
    "    def train(self):\n",
    "        ts = time.time()\n",
    "        model = gensim.models.Word2Vec(**self.args)\n",
    "        te = time.time()\n",
    "        return model, te-ts\n",
    "\n",
    "    @staticmethod\n",
    "    def get_features_mean(lines, model):\n",
    "        features = [model[x] for x in lines if x in model]\n",
    "        if features == []:\n",
    "            fm = np.zeros(model.vector_size)\n",
    "        else:\n",
    "            fm = np.mean(features, axis=0)\n",
    "        return fm\n",
    "\n",
    "    @staticmethod\n",
    "    def get_matrix_features_means(X, model):\n",
    "        ts = time.time()\n",
    "        X_embedded_ = list(map(lambda x: Word2Vec.get_features_mean(x, model), X))\n",
    "        X_embedded = np.vstack(X_embedded_)\n",
    "        te = time.time()\n",
    "        return X_embedded, te-ts"
   ]
  },
  {
   "cell_type": "code",
   "execution_count": null,
   "metadata": {},
   "outputs": [],
   "source": []
  },
  {
   "cell_type": "code",
   "execution_count": 46,
   "metadata": {},
   "outputs": [],
   "source": [
    "array_token = [line.split(\" \") for line in train_df[\"description_cleaned\"].values]"
   ]
  },
  {
   "cell_type": "code",
   "execution_count": 42,
   "metadata": {},
   "outputs": [],
   "source": [
    "features_dimension = 300\n",
    "min_count = 1\n",
    "window = 5\n",
    "hs = 0\n",
    "negative = 10"
   ]
  },
  {
   "cell_type": "code",
   "execution_count": null,
   "metadata": {},
   "outputs": [],
   "source": [
    "we_sg = Word2Vec(args = dict(sentences = array_token, sg=1, hs=hs, \n",
    "                                  negative=negative, min_count=min_count, \n",
    "                                  size=features_dimension, window = window, iter=10))\n",
    "model_sg, training_time_sg = we_sg.train()\n",
    "print(\"Model Skip-gram trained in %.2f minutes\"%(training_time_sg/60))"
   ]
  },
  {
   "cell_type": "code",
   "execution_count": 50,
   "metadata": {},
   "outputs": [],
   "source": [
    "word_vectors = model_sg.wv"
   ]
  },
  {
   "cell_type": "code",
   "execution_count": 60,
   "metadata": {},
   "outputs": [
    {
     "name": "stderr",
     "output_type": "stream",
     "text": [
      "<ipython-input-59-71b1a69040ec>:14: DeprecationWarning: Call to deprecated `__contains__` (Method will be removed in 4.0.0, use self.wv.__contains__() instead).\n",
      "  features = [model[x] for x in lines if x in model]\n",
      "<ipython-input-59-71b1a69040ec>:14: DeprecationWarning: Call to deprecated `__getitem__` (Method will be removed in 4.0.0, use self.wv.__getitem__() instead).\n",
      "  features = [model[x] for x in lines if x in model]\n"
     ]
    }
   ],
   "source": [
    "X_train, train_time = Word2Vec.get_matrix_features_means(array_token, model_sg)"
   ]
  },
  {
   "cell_type": "code",
   "execution_count": 62,
   "metadata": {},
   "outputs": [
    {
     "data": {
      "text/plain": [
       "217193"
      ]
     },
     "execution_count": 62,
     "metadata": {},
     "output_type": "execute_result"
    }
   ],
   "source": [
    "len(X_train)"
   ]
  },
  {
   "cell_type": "code",
   "execution_count": null,
   "metadata": {},
   "outputs": [],
   "source": []
  }
 ],
 "metadata": {
  "kernelspec": {
   "display_name": "Python 3.8 (Default)",
   "language": "python",
   "name": "python3"
  },
  "language_info": {
   "codemirror_mode": {
    "name": "ipython",
    "version": 3
   },
   "file_extension": ".py",
   "mimetype": "text/x-python",
   "name": "python",
   "nbconvert_exporter": "python",
   "pygments_lexer": "ipython3",
   "version": "3.8.3"
  }
 },
 "nbformat": 4,
 "nbformat_minor": 4
}
